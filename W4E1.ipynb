{
 "cells": [
  {
   "cell_type": "code",
   "execution_count": 1,
   "metadata": {},
   "outputs": [],
   "source": [
    "import numpy as np\n",
    "import matplotlib.pyplot as plt"
   ]
  },
  {
   "attachments": {
    "image.png": {
     "image/png": "[encoded data removed]"
    }
   },
   "cell_type": "markdown",
   "metadata": {},
   "source": [
    "# Week 4\n",
    "\n",
    "## Exercise 1\n",
    "\n",
    "### (a) Plot the Fluxonium potential from eq. (1) in Fluxonium paper:\n",
    "\n",
    "![image.png](attachment:image.png)"
   ]
  },
  {
   "cell_type": "code",
   "execution_count": 20,
   "metadata": {},
   "outputs": [],
   "source": [
    "# We are not implementing the potential shown in (1)\n",
    "#def potential(EJ, EL, phi, phi_ext):\n",
    "#    return -EJ*np.cos(phi) + 0.5*EL*(phi + phi_ext)**2\n",
    "\n",
    "# We have allocated the flux to the Josephson element to have a 2pi periodicity\n",
    "def potential(EJ, EL, phi, phi_ext):\n",
    "    return -EJ*np.cos(phi + phi_ext) + 0.5*EL*(phi)**2\n",
    "\n",
    "def potential2(EJ, EL, phi, phi_ext): # Here we have made the transformation phi -> phi - phi_ext\n",
    "    return -EJ*np.cos(phi) + 0.5*EL*(phi - phi_ext)**2"
   ]
  },
  {
   "cell_type": "code",
   "execution_count": 26,
   "metadata": {},
   "outputs": [],
   "source": [
    "phi_values = np.linspace(-np.pi, 3*np.pi, 400)\n",
    "EJ = 4\n",
    "EL = 1"
   ]
  },
  {
   "cell_type": "code",
   "execution_count": 27,
   "metadata": {},
   "outputs": [
    {
     "data": {
      "application/vnd.jupyter.widget-view+json": {
       "model_id": "bf864608267349d9ab7e99e6f383b28f",
       "version_major": 2,
       "version_minor": 0
      },
      "text/plain": [
       "interactive(children=(FloatSlider(value=0.0, description='phi_ext', max=6.283185307179586), Output()), _dom_cl…"
      ]
     },
     "metadata": {},
     "output_type": "display_data"
    },
    {
     "data": {
      "text/plain": [
       "<function __main__.plot_potential(phi_ext)>"
      ]
     },
     "execution_count": 27,
     "metadata": {},
     "output_type": "execute_result"
    }
   ],
   "source": [
    "import ipywidgets as widgets\n",
    "from ipywidgets import interact\n",
    "\n",
    "def plot_potential(phi_ext):\n",
    "    potential_values = potential(EJ, EL, phi_values - np.pi, phi_ext)\n",
    "    plt.plot(phi_values / (np.pi), potential_values, label=r'$\\phi_{\\rm ext} = $' + f'{phi_ext:.1f}')\n",
    "    plt.xlabel(r'$\\phi/\\pi$')\n",
    "    plt.ylabel('Fluxonium potential')\n",
    "    plt.title(r'Potential vs $\\phi$ for different $\\phi_{ext}$ values')\n",
    "    plt.tick_params(axis='both', direction='in')\n",
    "    plt.ylim(-1, 10)\n",
    "    plt.legend()\n",
    "    plt.show()\n",
    "\n",
    "interact(plot_potential, phi_ext=widgets.FloatSlider(min=0, max=2*np.pi, step=0.1, value=0))"
   ]
  },
  {
   "cell_type": "markdown",
   "metadata": {},
   "source": [
    "### (b) Plot the original and transformed potentials"
   ]
  },
  {
   "cell_type": "code",
   "execution_count": 30,
   "metadata": {},
   "outputs": [
    {
     "data": {
      "application/vnd.jupyter.widget-view+json": {
       "model_id": "11f98ae7f38043d2838b8f37eae3f4a1",
       "version_major": 2,
       "version_minor": 0
      },
      "text/plain": [
       "interactive(children=(FloatSlider(value=0.0, description='phi_ext', max=6.283185307179586), Output()), _dom_cl…"
      ]
     },
     "metadata": {},
     "output_type": "display_data"
    },
    {
     "data": {
      "text/plain": [
       "<function __main__.plot_potential2(phi_ext)>"
      ]
     },
     "execution_count": 30,
     "metadata": {},
     "output_type": "execute_result"
    }
   ],
   "source": [
    "def plot_potential2(phi_ext):\n",
    "    phi_values = np.linspace(-np.pi, 3*np.pi, 400)\n",
    "    potential_values = potential(EJ, EL, phi_values - np.pi, phi_ext)\n",
    "    potential_values2 = potential2(EJ, EL, phi_values - np.pi, phi_ext)\n",
    "    plt.plot(phi_values / (np.pi), potential_values, label=r'$+ \\phi_{ext}$')\n",
    "    plt.plot(phi_values / (np.pi), potential_values2, label=r'$- \\phi_{ext}$')\n",
    "    plt.xlabel(r'$\\phi/\\pi$')\n",
    "    plt.ylabel('Fluxonium potential')\n",
    "    plt.title(r'Potential vs $\\phi$ for different $\\phi_{ext}$ values')\n",
    "    plt.tick_params(axis='both', direction='in')\n",
    "    plt.ylim(-5, 10)\n",
    "    plt.legend()\n",
    "    plt.show()\n",
    "\n",
    "interact(plot_potential2, phi_ext=widgets.FloatSlider(min=0, max=2*np.pi, step=0.1, value=0))"
   ]
  },
  {
   "cell_type": "markdown",
   "metadata": {},
   "source": [
    "\"... yet the potential is not 2π-periodic in $\\phi_{ext}$ anymore.\" \n",
    "\n",
    "Is this true?\n",
    "\n"
   ]
  }
 ],
 "metadata": {
  "kernelspec": {
   "display_name": "Python 3",
   "language": "python",
   "name": "python3"
  },
  "language_info": {
   "codemirror_mode": {
    "name": "ipython",
    "version": 3
   },
   "file_extension": ".py",
   "mimetype": "text/x-python",
   "name": "python",
   "nbconvert_exporter": "python",
   "pygments_lexer": "ipython3",
   "version": "3.10.2"
  }
 },
 "nbformat": 4,
 "nbformat_minor": 4
}
